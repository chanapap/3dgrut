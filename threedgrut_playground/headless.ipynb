{
 "cells": [
  {
   "cell_type": "markdown",
   "id": "305ea615-b3aa-497b-866d-7536f3a4bfcb",
   "metadata": {},
   "source": [
    "# Headless Playground"
   ]
  },
  {
   "cell_type": "markdown",
   "id": "7fd4006f-aa95-40fd-bcbb-6be2668d1a4d",
   "metadata": {},
   "source": [
    "*This mode is suitable to display the gui on remote machines (i.e. cannot set up the polyscope gui).*\n",
    "Here we show how to use `Engine3DGRUT` with [NVIDIA kaolin's[(https://github.com/NVIDIAGameWorks/kaolin) viewer. \n",
    "\n",
    "Note: Other viewers can similarly interact with the engine."
   ]
  },
  {
   "cell_type": "markdown",
   "id": "fb540372-a221-48f7-b8e9-c4d742d8ae7a",
   "metadata": {},
   "source": [
    "## Engine Params"
   ]
  },
  {
   "cell_type": "markdown",
   "id": "dfc2ea73-d020-4295-8bdc-9f30617c813b",
   "metadata": {},
   "source": [
    "Point at your playground params here.\n",
    "\n",
    "* *gs_object*: Path of pretrained 3dgrt checkpoint, as .pt / .ingp / .ply file.\n",
    "* *mesh_assets*: Path to folder containing mesh assets of .obj or .glb format.\n",
    "* *default_config*: Name of default config to use for .ingp, .ply files, or .pt files not trained with 3dgrt."
   ]
  },
  {
   "cell_type": "code",
   "execution_count": 1,
   "id": "7cf0bead-1fc0-421f-bf32-2da2d99d6e92",
   "metadata": {},
   "outputs": [],
   "source": [
    "gs_object = r\"D:\\3d-recon\\3dgrut\\runs\\garden_3dgrt\\garden-test-2606_141820\\ckpt_last.pt\"\n",
    "mesh_assets_folder = \"./assets\"\n",
    "default_config = \"apps/colmap_3dgrt.yaml\""
   ]
  },
  {
   "cell_type": "markdown",
   "id": "efd77d91-94f7-4960-8388-068f3a94be07",
   "metadata": {},
   "source": [
    "## Install additional requirements"
   ]
  },
  {
   "cell_type": "code",
   "execution_count": 2,
   "id": "1e9bbef1-d64e-4719-b89f-4cd562eb361b",
   "metadata": {},
   "outputs": [],
   "source": [
    "!pip install matplotlib ipywidgets --quiet"
   ]
  },
  {
   "cell_type": "markdown",
   "id": "a1d345c3-5c58-4fcf-99e1-17b30c79515a",
   "metadata": {},
   "source": [
    "#### Add 3dgrut root to search path"
   ]
  },
  {
   "cell_type": "code",
   "execution_count": 3,
   "id": "411aae24-bfac-4311-9949-d1da02bddf56",
   "metadata": {},
   "outputs": [],
   "source": [
    "import sys\n",
    "from pathlib import Path\n",
    "\n",
    "notebook_path = Path().resolve()\n",
    "root_path = notebook_path.parent\n",
    "sys.path.append(str(root_path))"
   ]
  },
  {
   "cell_type": "markdown",
   "id": "84c02229-c167-417a-9343-efd8b45643d0",
   "metadata": {},
   "source": [
    "## 3DGRUT Playground Engine"
   ]
  },
  {
   "cell_type": "markdown",
   "id": "31bd67bf-2348-431f-9ffe-34e5ea2b472b",
   "metadata": {},
   "source": [
    "#### Setup Headless Engine"
   ]
  },
  {
   "cell_type": "code",
   "execution_count": 4,
   "id": "9a64151e22187546",
   "metadata": {},
   "outputs": [
    {
     "name": "stdout",
     "output_type": "stream",
     "text": [
      "Warp 1.7.2 initialized:\n",
      "   CUDA Toolkit 12.8, Driver 12.4\n",
      "   Devices:\n",
      "     \"cpu\"      : \"Intel64 Family 6 Model 167 Stepping 1, GenuineIntel\"\n",
      "     \"cuda:0\"   : \"NVIDIA GeForce RTX 3080 Ti\" (12 GiB, sm_86, mempool enabled)\n",
      "   Kernel cache:\n",
      "     C:\\Users\\hci\\AppData\\Local\\NVIDIA\\warp\\Cache\\1.7.2\n"
     ]
    }
   ],
   "source": [
    "import os\n",
    "import copy\n",
    "import numpy as np\n",
    "import torch\n",
    "import torchvision.transforms.functional as F\n",
    "import kaolin\n",
    "from matplotlib import pyplot as plt\n",
    "\n",
    "from threedgrut.utils.logger import logger\n",
    "from threedgrut.gui.ps_extension import initialize_cugl_interop\n",
    "from threedgrut_playground.utils.video_out import VideoRecorder\n",
    "from threedgrut_playground.engine import Engine3DGRUT, OptixPrimitiveTypes"
   ]
  },
  {
   "cell_type": "code",
   "execution_count": 5,
   "id": "8e3640e5-0b1b-47de-b45d-e739a2edc5e2",
   "metadata": {},
   "outputs": [
    {
     "name": "stderr",
     "output_type": "stream",
     "text": [
      "2025-06-26 15:33:49,938 - threedgrt_tracer.tracer - INFO - 🔆 Creating Optix tracing pipeline.. Using CUDA path: \"C:\\Program Files\\NVIDIA GPU Computing Toolkit\\CUDA\\v11.8\"\n",
      "Using C:\\Users\\hci\\AppData\\Local\\torch_extensions\\torch_extensions\\Cache\\py311_cu118 as PyTorch extensions root...\n",
      "Detected CUDA files, patching ldflags\n",
      "Emitting ninja build file C:\\Users\\hci\\AppData\\Local\\torch_extensions\\torch_extensions\\Cache\\py311_cu118\\lib3dgrt_cc\\build.ninja...\n",
      "c:\\Users\\hci\\.conda\\envs\\3dgrut\\Lib\\site-packages\\torch\\utils\\cpp_extension.py:1964: UserWarning: TORCH_CUDA_ARCH_LIST is not set, all archs for visible cards are included for compilation. \n",
      "If this is not desired, please set os.environ['TORCH_CUDA_ARCH_LIST'].\n",
      "  warnings.warn(\n",
      "Building extension module lib3dgrt_cc...\n",
      "Allowing ninja to set a default number of workers... (overridable by setting the environment variable MAX_JOBS=N)\n"
     ]
    },
    {
     "ename": "RuntimeError",
     "evalue": "Error building extension 'lib3dgrt_cc'",
     "output_type": "error",
     "traceback": [
      "\u001b[31m---------------------------------------------------------------------------\u001b[39m",
      "\u001b[31mImportError\u001b[39m                               Traceback (most recent call last)",
      "\u001b[36mFile \u001b[39m\u001b[32md:\\3d-recon\\3dgrut\\threedgrt_tracer\\tracer.py:38\u001b[39m, in \u001b[36mload_3dgrt_plugin\u001b[39m\u001b[34m(conf)\u001b[39m\n\u001b[32m     37\u001b[39m \u001b[38;5;28;01mtry\u001b[39;00m:\n\u001b[32m---> \u001b[39m\u001b[32m38\u001b[39m     \u001b[38;5;28;01mfrom\u001b[39;00m\u001b[38;5;250m \u001b[39m\u001b[34;01m.\u001b[39;00m\u001b[38;5;250m \u001b[39m\u001b[38;5;28;01mimport\u001b[39;00m lib3dgrt_cc \u001b[38;5;28;01mas\u001b[39;00m tdgrt  \u001b[38;5;66;03m# type: ignore\u001b[39;00m\n\u001b[32m     39\u001b[39m \u001b[38;5;28;01mexcept\u001b[39;00m \u001b[38;5;167;01mImportError\u001b[39;00m:\n",
      "\u001b[31mImportError\u001b[39m: cannot import name 'lib3dgrt_cc' from 'threedgrt_tracer' (d:\\3d-recon\\3dgrut\\threedgrt_tracer\\__init__.py)",
      "\nDuring handling of the above exception, another exception occurred:\n",
      "\u001b[31mCalledProcessError\u001b[39m                        Traceback (most recent call last)",
      "\u001b[36mFile \u001b[39m\u001b[32mc:\\Users\\hci\\.conda\\envs\\3dgrut\\Lib\\site-packages\\torch\\utils\\cpp_extension.py:2104\u001b[39m, in \u001b[36m_run_ninja_build\u001b[39m\u001b[34m(build_directory, verbose, error_prefix)\u001b[39m\n\u001b[32m   2103\u001b[39m     stdout_fileno = \u001b[32m1\u001b[39m\n\u001b[32m-> \u001b[39m\u001b[32m2104\u001b[39m     \u001b[43msubprocess\u001b[49m\u001b[43m.\u001b[49m\u001b[43mrun\u001b[49m\u001b[43m(\u001b[49m\n\u001b[32m   2105\u001b[39m \u001b[43m        \u001b[49m\u001b[43mcommand\u001b[49m\u001b[43m,\u001b[49m\n\u001b[32m   2106\u001b[39m \u001b[43m        \u001b[49m\u001b[43mstdout\u001b[49m\u001b[43m=\u001b[49m\u001b[43mstdout_fileno\u001b[49m\u001b[43m \u001b[49m\u001b[38;5;28;43;01mif\u001b[39;49;00m\u001b[43m \u001b[49m\u001b[43mverbose\u001b[49m\u001b[43m \u001b[49m\u001b[38;5;28;43;01melse\u001b[39;49;00m\u001b[43m \u001b[49m\u001b[43msubprocess\u001b[49m\u001b[43m.\u001b[49m\u001b[43mPIPE\u001b[49m\u001b[43m,\u001b[49m\n\u001b[32m   2107\u001b[39m \u001b[43m        \u001b[49m\u001b[43mstderr\u001b[49m\u001b[43m=\u001b[49m\u001b[43msubprocess\u001b[49m\u001b[43m.\u001b[49m\u001b[43mSTDOUT\u001b[49m\u001b[43m,\u001b[49m\n\u001b[32m   2108\u001b[39m \u001b[43m        \u001b[49m\u001b[43mcwd\u001b[49m\u001b[43m=\u001b[49m\u001b[43mbuild_directory\u001b[49m\u001b[43m,\u001b[49m\n\u001b[32m   2109\u001b[39m \u001b[43m        \u001b[49m\u001b[43mcheck\u001b[49m\u001b[43m=\u001b[49m\u001b[38;5;28;43;01mTrue\u001b[39;49;00m\u001b[43m,\u001b[49m\n\u001b[32m   2110\u001b[39m \u001b[43m        \u001b[49m\u001b[43menv\u001b[49m\u001b[43m=\u001b[49m\u001b[43menv\u001b[49m\u001b[43m)\u001b[49m\n\u001b[32m   2111\u001b[39m \u001b[38;5;28;01mexcept\u001b[39;00m subprocess.CalledProcessError \u001b[38;5;28;01mas\u001b[39;00m e:\n\u001b[32m   2112\u001b[39m     \u001b[38;5;66;03m# Python 2 and 3 compatible way of getting the error object.\u001b[39;00m\n",
      "\u001b[36mFile \u001b[39m\u001b[32mc:\\Users\\hci\\.conda\\envs\\3dgrut\\Lib\\subprocess.py:571\u001b[39m, in \u001b[36mrun\u001b[39m\u001b[34m(input, capture_output, timeout, check, *popenargs, **kwargs)\u001b[39m\n\u001b[32m    570\u001b[39m     \u001b[38;5;28;01mif\u001b[39;00m check \u001b[38;5;129;01mand\u001b[39;00m retcode:\n\u001b[32m--> \u001b[39m\u001b[32m571\u001b[39m         \u001b[38;5;28;01mraise\u001b[39;00m CalledProcessError(retcode, process.args,\n\u001b[32m    572\u001b[39m                                  output=stdout, stderr=stderr)\n\u001b[32m    573\u001b[39m \u001b[38;5;28;01mreturn\u001b[39;00m CompletedProcess(process.args, retcode, stdout, stderr)\n",
      "\u001b[31mCalledProcessError\u001b[39m: Command '['ninja', '-v']' returned non-zero exit status 1.",
      "\nThe above exception was the direct cause of the following exception:\n",
      "\u001b[31mRuntimeError\u001b[39m                              Traceback (most recent call last)",
      "\u001b[36mCell\u001b[39m\u001b[36m \u001b[39m\u001b[32mIn[5]\u001b[39m\u001b[32m, line 1\u001b[39m\n\u001b[32m----> \u001b[39m\u001b[32m1\u001b[39m engine = \u001b[43mEngine3DGRUT\u001b[49m\u001b[43m(\u001b[49m\n\u001b[32m      2\u001b[39m \u001b[43m    \u001b[49m\u001b[43mgs_object\u001b[49m\u001b[43m=\u001b[49m\u001b[43mgs_object\u001b[49m\u001b[43m,\u001b[49m\n\u001b[32m      3\u001b[39m \u001b[43m    \u001b[49m\u001b[43mmesh_assets_folder\u001b[49m\u001b[43m=\u001b[49m\u001b[43mmesh_assets_folder\u001b[49m\u001b[43m,\u001b[49m\n\u001b[32m      4\u001b[39m \u001b[43m    \u001b[49m\u001b[43mdefault_config\u001b[49m\u001b[43m=\u001b[49m\u001b[43mdefault_config\u001b[49m\n\u001b[32m      5\u001b[39m \u001b[43m)\u001b[49m\n",
      "\u001b[36mFile \u001b[39m\u001b[32md:\\3d-recon\\3dgrut\\threedgrut_playground\\engine.py:787\u001b[39m, in \u001b[36mEngine3DGRUT.__init__\u001b[39m\u001b[34m(self, gs_object, mesh_assets_folder, default_config, envmap_assets_folder)\u001b[39m\n\u001b[32m    780\u001b[39m \u001b[38;5;28;01mdef\u001b[39;00m\u001b[38;5;250m \u001b[39m\u001b[34m__init__\u001b[39m(\n\u001b[32m    781\u001b[39m     \u001b[38;5;28mself\u001b[39m,\n\u001b[32m    782\u001b[39m     gs_object: \u001b[38;5;28mstr\u001b[39m,\n\u001b[32m   (...)\u001b[39m\u001b[32m    785\u001b[39m     envmap_assets_folder: Optional[\u001b[38;5;28mstr\u001b[39m]=\u001b[38;5;28;01mNone\u001b[39;00m\n\u001b[32m    786\u001b[39m ):\n\u001b[32m--> \u001b[39m\u001b[32m787\u001b[39m     \u001b[38;5;28mself\u001b[39m.scene_mog, \u001b[38;5;28mself\u001b[39m.scene_name = \u001b[38;5;28;43mself\u001b[39;49m\u001b[43m.\u001b[49m\u001b[43mload_3dgrt_object\u001b[49m\u001b[43m(\u001b[49m\u001b[43mgs_object\u001b[49m\u001b[43m,\u001b[49m\u001b[43m \u001b[49m\u001b[43mconfig_name\u001b[49m\u001b[43m=\u001b[49m\u001b[43mdefault_config\u001b[49m\u001b[43m)\u001b[49m\n\u001b[32m    788\u001b[39m     \u001b[38;5;28mself\u001b[39m.tracer = Tracer(\u001b[38;5;28mself\u001b[39m.scene_mog.conf)\n\u001b[32m    789\u001b[39m     \u001b[38;5;28mself\u001b[39m.device = \u001b[38;5;28mself\u001b[39m.scene_mog.device\n",
      "\u001b[36mFile \u001b[39m\u001b[32mc:\\Users\\hci\\.conda\\envs\\3dgrut\\Lib\\contextlib.py:81\u001b[39m, in \u001b[36mContextDecorator.__call__.<locals>.inner\u001b[39m\u001b[34m(*args, **kwds)\u001b[39m\n\u001b[32m     78\u001b[39m \u001b[38;5;129m@wraps\u001b[39m(func)\n\u001b[32m     79\u001b[39m \u001b[38;5;28;01mdef\u001b[39;00m\u001b[38;5;250m \u001b[39m\u001b[34minner\u001b[39m(*args, **kwds):\n\u001b[32m     80\u001b[39m     \u001b[38;5;28;01mwith\u001b[39;00m \u001b[38;5;28mself\u001b[39m._recreate_cm():\n\u001b[32m---> \u001b[39m\u001b[32m81\u001b[39m         \u001b[38;5;28;01mreturn\u001b[39;00m \u001b[43mfunc\u001b[49m\u001b[43m(\u001b[49m\u001b[43m*\u001b[49m\u001b[43margs\u001b[49m\u001b[43m,\u001b[49m\u001b[43m \u001b[49m\u001b[43m*\u001b[49m\u001b[43m*\u001b[49m\u001b[43mkwds\u001b[49m\u001b[43m)\u001b[49m\n",
      "\u001b[36mFile \u001b[39m\u001b[32md:\\3d-recon\\3dgrut\\threedgrut_playground\\engine.py:1176\u001b[39m, in \u001b[36mEngine3DGRUT.load_3dgrt_object\u001b[39m\u001b[34m(self, object_path, config_name)\u001b[39m\n\u001b[32m   1174\u001b[39m \u001b[38;5;28;01mif\u001b[39;00m conf.render[\u001b[33m'\u001b[39m\u001b[33mmethod\u001b[39m\u001b[33m'\u001b[39m] != \u001b[33m'\u001b[39m\u001b[33m3dgrt\u001b[39m\u001b[33m'\u001b[39m:\n\u001b[32m   1175\u001b[39m     conf = load_default_config()\n\u001b[32m-> \u001b[39m\u001b[32m1176\u001b[39m model = \u001b[43mMixtureOfGaussians\u001b[49m\u001b[43m(\u001b[49m\u001b[43mconf\u001b[49m\u001b[43m)\u001b[49m\n\u001b[32m   1177\u001b[39m model.init_from_checkpoint(checkpoint, setup_optimizer=\u001b[38;5;28;01mFalse\u001b[39;00m)\n\u001b[32m   1178\u001b[39m object_name = conf.experiment_name\n",
      "\u001b[36mFile \u001b[39m\u001b[32md:\\3d-recon\\3dgrut\\threedgrut\\model\\model.py:183\u001b[39m, in \u001b[36mMixtureOfGaussians.__init__\u001b[39m\u001b[34m(self, conf, scene_extent)\u001b[39m\n\u001b[32m    181\u001b[39m \u001b[38;5;66;03m# Rendering method\u001b[39;00m\n\u001b[32m    182\u001b[39m \u001b[38;5;28;01mif\u001b[39;00m conf.render.method == \u001b[33m\"\u001b[39m\u001b[33m3dgrt\u001b[39m\u001b[33m\"\u001b[39m:\n\u001b[32m--> \u001b[39m\u001b[32m183\u001b[39m    \u001b[38;5;28mself\u001b[39m.renderer = \u001b[43mthreedgrt_tracer\u001b[49m\u001b[43m.\u001b[49m\u001b[43mTracer\u001b[49m\u001b[43m(\u001b[49m\u001b[43mconf\u001b[49m\u001b[43m)\u001b[49m\n\u001b[32m    184\u001b[39m \u001b[38;5;28;01melif\u001b[39;00m conf.render.method == \u001b[33m\"\u001b[39m\u001b[33m3dgut\u001b[39m\u001b[33m\"\u001b[39m:\n\u001b[32m    185\u001b[39m     \u001b[38;5;28mself\u001b[39m.renderer = threedgut_tracer.Tracer(conf)\n",
      "\u001b[36mFile \u001b[39m\u001b[32md:\\3d-recon\\3dgrut\\threedgrt_tracer\\tracer.py:171\u001b[39m, in \u001b[36mTracer.__init__\u001b[39m\u001b[34m(self, conf)\u001b[39m\n\u001b[32m    169\u001b[39m logger.info(\u001b[33mf\u001b[39m\u001b[33m'\u001b[39m\u001b[33m🔆 Creating Optix tracing pipeline.. Using CUDA path: \u001b[39m\u001b[33m\"\u001b[39m\u001b[38;5;132;01m{\u001b[39;00mtorch.utils.cpp_extension.CUDA_HOME\u001b[38;5;132;01m}\u001b[39;00m\u001b[33m\"\u001b[39m\u001b[33m'\u001b[39m)\n\u001b[32m    170\u001b[39m torch.zeros(\u001b[32m1\u001b[39m, device=\u001b[38;5;28mself\u001b[39m.device)  \u001b[38;5;66;03m# Create a dummy tensor to force cuda context init\u001b[39;00m\n\u001b[32m--> \u001b[39m\u001b[32m171\u001b[39m \u001b[43mload_3dgrt_plugin\u001b[49m\u001b[43m(\u001b[49m\u001b[43mconf\u001b[49m\u001b[43m)\u001b[49m\n\u001b[32m    173\u001b[39m \u001b[38;5;28mself\u001b[39m.tracer_wrapper = _3dgrt_plugin.OptixTracer(\n\u001b[32m    174\u001b[39m     os.path.dirname(\u001b[34m__file__\u001b[39m),\n\u001b[32m    175\u001b[39m     torch.utils.cpp_extension.CUDA_HOME,\n\u001b[32m   (...)\u001b[39m\u001b[32m    184\u001b[39m     \u001b[38;5;28mself\u001b[39m.conf.render.enable_hitcounts,\n\u001b[32m    185\u001b[39m )\n\u001b[32m    187\u001b[39m \u001b[38;5;28mself\u001b[39m.frame_timer = CudaTimer() \u001b[38;5;28;01mif\u001b[39;00m \u001b[38;5;28mself\u001b[39m.conf.render.enable_kernel_timings \u001b[38;5;28;01melse\u001b[39;00m \u001b[38;5;28;01mNone\u001b[39;00m\n",
      "\u001b[36mFile \u001b[39m\u001b[32md:\\3d-recon\\3dgrut\\threedgrt_tracer\\tracer.py:42\u001b[39m, in \u001b[36mload_3dgrt_plugin\u001b[39m\u001b[34m(conf)\u001b[39m\n\u001b[32m     39\u001b[39m \u001b[38;5;28;01mexcept\u001b[39;00m \u001b[38;5;167;01mImportError\u001b[39;00m:\n\u001b[32m     40\u001b[39m     \u001b[38;5;28;01mfrom\u001b[39;00m\u001b[38;5;250m \u001b[39m\u001b[34;01m.\u001b[39;00m\u001b[34;01msetup_3dgrt\u001b[39;00m\u001b[38;5;250m \u001b[39m\u001b[38;5;28;01mimport\u001b[39;00m setup_3dgrt\n\u001b[32m---> \u001b[39m\u001b[32m42\u001b[39m     \u001b[43msetup_3dgrt\u001b[49m\u001b[43m(\u001b[49m\u001b[43mconf\u001b[49m\u001b[43m)\u001b[49m\n\u001b[32m     43\u001b[39m     \u001b[38;5;28;01mimport\u001b[39;00m\u001b[38;5;250m \u001b[39m\u001b[34;01mlib3dgrt_cc\u001b[39;00m\u001b[38;5;250m \u001b[39m\u001b[38;5;28;01mas\u001b[39;00m\u001b[38;5;250m \u001b[39m\u001b[34;01mtdgrt\u001b[39;00m  \u001b[38;5;66;03m# type: ignore\u001b[39;00m\n\u001b[32m     44\u001b[39m _3dgrt_plugin = tdgrt\n",
      "\u001b[36mFile \u001b[39m\u001b[32md:\\3d-recon\\3dgrut\\threedgrt_tracer\\setup_3dgrt.py:74\u001b[39m, in \u001b[36msetup_3dgrt\u001b[39m\u001b[34m(conf)\u001b[39m\n\u001b[32m     72\u001b[39m \u001b[38;5;66;03m# Compile and load.\u001b[39;00m\n\u001b[32m     73\u001b[39m source_paths = [os.path.join(os.path.dirname(\u001b[34m__file__\u001b[39m), fn) \u001b[38;5;28;01mfor\u001b[39;00m fn \u001b[38;5;129;01min\u001b[39;00m source_files]\n\u001b[32m---> \u001b[39m\u001b[32m74\u001b[39m \u001b[43mjit\u001b[49m\u001b[43m.\u001b[49m\u001b[43mload\u001b[49m\u001b[43m(\u001b[49m\n\u001b[32m     75\u001b[39m \u001b[43m    \u001b[49m\u001b[43mname\u001b[49m\u001b[43m=\u001b[49m\u001b[33;43m\"\u001b[39;49m\u001b[33;43mlib3dgrt_cc\u001b[39;49m\u001b[33;43m\"\u001b[39;49m\u001b[43m,\u001b[49m\n\u001b[32m     76\u001b[39m \u001b[43m    \u001b[49m\u001b[43msources\u001b[49m\u001b[43m=\u001b[49m\u001b[43msource_paths\u001b[49m\u001b[43m,\u001b[49m\n\u001b[32m     77\u001b[39m \u001b[43m    \u001b[49m\u001b[43mextra_cflags\u001b[49m\u001b[43m=\u001b[49m\u001b[43mcflags\u001b[49m\u001b[43m,\u001b[49m\n\u001b[32m     78\u001b[39m \u001b[43m    \u001b[49m\u001b[43mextra_cuda_cflags\u001b[49m\u001b[43m=\u001b[49m\u001b[43mcuda_flags\u001b[49m\u001b[43m,\u001b[49m\n\u001b[32m     79\u001b[39m \u001b[43m    \u001b[49m\u001b[43mextra_include_paths\u001b[49m\u001b[43m=\u001b[49m\u001b[43minclude_paths\u001b[49m\u001b[43m,\u001b[49m\n\u001b[32m     80\u001b[39m \u001b[43m\u001b[49m\u001b[43m)\u001b[49m\n",
      "\u001b[36mFile \u001b[39m\u001b[32md:\\3d-recon\\3dgrut\\threedgrut\\utils\\jit.py:107\u001b[39m, in \u001b[36mload\u001b[39m\u001b[34m(extra_cflags, extra_cuda_cflags, extra_ldflags, extra_include_paths, with_cuda, verbose, *args, **kwargs)\u001b[39m\n\u001b[32m    104\u001b[39m     include_paths += extra_include_paths\n\u001b[32m    106\u001b[39m \u001b[38;5;66;03m# Load\u001b[39;00m\n\u001b[32m--> \u001b[39m\u001b[32m107\u001b[39m \u001b[38;5;28;01mreturn\u001b[39;00m \u001b[43mtorch\u001b[49m\u001b[43m.\u001b[49m\u001b[43mutils\u001b[49m\u001b[43m.\u001b[49m\u001b[43mcpp_extension\u001b[49m\u001b[43m.\u001b[49m\u001b[43mload\u001b[49m\u001b[43m(\u001b[49m\n\u001b[32m    108\u001b[39m \u001b[43m    \u001b[49m\u001b[43mextra_cflags\u001b[49m\u001b[43m=\u001b[49m\u001b[43mcflags\u001b[49m\u001b[43m,\u001b[49m\n\u001b[32m    109\u001b[39m \u001b[43m    \u001b[49m\u001b[43mextra_cuda_cflags\u001b[49m\u001b[43m=\u001b[49m\u001b[43mcuda_cflags\u001b[49m\u001b[43m,\u001b[49m\n\u001b[32m    110\u001b[39m \u001b[43m    \u001b[49m\u001b[43mextra_ldflags\u001b[49m\u001b[43m=\u001b[49m\u001b[43mldflags\u001b[49m\u001b[43m,\u001b[49m\n\u001b[32m    111\u001b[39m \u001b[43m    \u001b[49m\u001b[43mextra_include_paths\u001b[49m\u001b[43m=\u001b[49m\u001b[43minclude_paths\u001b[49m\u001b[43m,\u001b[49m\n\u001b[32m    112\u001b[39m \u001b[43m    \u001b[49m\u001b[43mwith_cuda\u001b[49m\u001b[43m=\u001b[49m\u001b[43mwith_cuda\u001b[49m\u001b[43m,\u001b[49m\n\u001b[32m    113\u001b[39m \u001b[43m    \u001b[49m\u001b[43mverbose\u001b[49m\u001b[43m=\u001b[49m\u001b[43mverbose\u001b[49m\u001b[43m,\u001b[49m\n\u001b[32m    114\u001b[39m \u001b[43m    \u001b[49m\u001b[43m*\u001b[49m\u001b[43margs\u001b[49m\u001b[43m,\u001b[49m\n\u001b[32m    115\u001b[39m \u001b[43m    \u001b[49m\u001b[43m*\u001b[49m\u001b[43m*\u001b[49m\u001b[43mkwargs\u001b[49m\u001b[43m,\u001b[49m\n\u001b[32m    116\u001b[39m \u001b[43m\u001b[49m\u001b[43m)\u001b[49m\n",
      "\u001b[36mFile \u001b[39m\u001b[32mc:\\Users\\hci\\.conda\\envs\\3dgrut\\Lib\\site-packages\\torch\\utils\\cpp_extension.py:1314\u001b[39m, in \u001b[36mload\u001b[39m\u001b[34m(name, sources, extra_cflags, extra_cuda_cflags, extra_ldflags, extra_include_paths, build_directory, verbose, with_cuda, is_python_module, is_standalone, keep_intermediates)\u001b[39m\n\u001b[32m   1222\u001b[39m \u001b[38;5;28;01mdef\u001b[39;00m\u001b[38;5;250m \u001b[39m\u001b[34mload\u001b[39m(name,\n\u001b[32m   1223\u001b[39m          sources: Union[\u001b[38;5;28mstr\u001b[39m, List[\u001b[38;5;28mstr\u001b[39m]],\n\u001b[32m   1224\u001b[39m          extra_cflags=\u001b[38;5;28;01mNone\u001b[39;00m,\n\u001b[32m   (...)\u001b[39m\u001b[32m   1232\u001b[39m          is_standalone=\u001b[38;5;28;01mFalse\u001b[39;00m,\n\u001b[32m   1233\u001b[39m          keep_intermediates=\u001b[38;5;28;01mTrue\u001b[39;00m):\n\u001b[32m   1234\u001b[39m \u001b[38;5;250m    \u001b[39m\u001b[33;03m\"\"\"\u001b[39;00m\n\u001b[32m   1235\u001b[39m \u001b[33;03m    Load a PyTorch C++ extension just-in-time (JIT).\u001b[39;00m\n\u001b[32m   1236\u001b[39m \n\u001b[32m   (...)\u001b[39m\u001b[32m   1312\u001b[39m \u001b[33;03m        ...     verbose=True)\u001b[39;00m\n\u001b[32m   1313\u001b[39m \u001b[33;03m    \"\"\"\u001b[39;00m\n\u001b[32m-> \u001b[39m\u001b[32m1314\u001b[39m     \u001b[38;5;28;01mreturn\u001b[39;00m \u001b[43m_jit_compile\u001b[49m\u001b[43m(\u001b[49m\n\u001b[32m   1315\u001b[39m \u001b[43m        \u001b[49m\u001b[43mname\u001b[49m\u001b[43m,\u001b[49m\n\u001b[32m   1316\u001b[39m \u001b[43m        \u001b[49m\u001b[43m[\u001b[49m\u001b[43msources\u001b[49m\u001b[43m]\u001b[49m\u001b[43m \u001b[49m\u001b[38;5;28;43;01mif\u001b[39;49;00m\u001b[43m \u001b[49m\u001b[38;5;28;43misinstance\u001b[39;49m\u001b[43m(\u001b[49m\u001b[43msources\u001b[49m\u001b[43m,\u001b[49m\u001b[43m \u001b[49m\u001b[38;5;28;43mstr\u001b[39;49m\u001b[43m)\u001b[49m\u001b[43m \u001b[49m\u001b[38;5;28;43;01melse\u001b[39;49;00m\u001b[43m \u001b[49m\u001b[43msources\u001b[49m\u001b[43m,\u001b[49m\n\u001b[32m   1317\u001b[39m \u001b[43m        \u001b[49m\u001b[43mextra_cflags\u001b[49m\u001b[43m,\u001b[49m\n\u001b[32m   1318\u001b[39m \u001b[43m        \u001b[49m\u001b[43mextra_cuda_cflags\u001b[49m\u001b[43m,\u001b[49m\n\u001b[32m   1319\u001b[39m \u001b[43m        \u001b[49m\u001b[43mextra_ldflags\u001b[49m\u001b[43m,\u001b[49m\n\u001b[32m   1320\u001b[39m \u001b[43m        \u001b[49m\u001b[43mextra_include_paths\u001b[49m\u001b[43m,\u001b[49m\n\u001b[32m   1321\u001b[39m \u001b[43m        \u001b[49m\u001b[43mbuild_directory\u001b[49m\u001b[43m \u001b[49m\u001b[38;5;129;43;01mor\u001b[39;49;00m\u001b[43m \u001b[49m\u001b[43m_get_build_directory\u001b[49m\u001b[43m(\u001b[49m\u001b[43mname\u001b[49m\u001b[43m,\u001b[49m\u001b[43m \u001b[49m\u001b[43mverbose\u001b[49m\u001b[43m)\u001b[49m\u001b[43m,\u001b[49m\n\u001b[32m   1322\u001b[39m \u001b[43m        \u001b[49m\u001b[43mverbose\u001b[49m\u001b[43m,\u001b[49m\n\u001b[32m   1323\u001b[39m \u001b[43m        \u001b[49m\u001b[43mwith_cuda\u001b[49m\u001b[43m,\u001b[49m\n\u001b[32m   1324\u001b[39m \u001b[43m        \u001b[49m\u001b[43mis_python_module\u001b[49m\u001b[43m,\u001b[49m\n\u001b[32m   1325\u001b[39m \u001b[43m        \u001b[49m\u001b[43mis_standalone\u001b[49m\u001b[43m,\u001b[49m\n\u001b[32m   1326\u001b[39m \u001b[43m        \u001b[49m\u001b[43mkeep_intermediates\u001b[49m\u001b[43m=\u001b[49m\u001b[43mkeep_intermediates\u001b[49m\u001b[43m)\u001b[49m\n",
      "\u001b[36mFile \u001b[39m\u001b[32mc:\\Users\\hci\\.conda\\envs\\3dgrut\\Lib\\site-packages\\torch\\utils\\cpp_extension.py:1721\u001b[39m, in \u001b[36m_jit_compile\u001b[39m\u001b[34m(name, sources, extra_cflags, extra_cuda_cflags, extra_ldflags, extra_include_paths, build_directory, verbose, with_cuda, is_python_module, is_standalone, keep_intermediates)\u001b[39m\n\u001b[32m   1717\u001b[39m                 hipified_sources.add(hipify_result[s_abs].hipified_path \u001b[38;5;28;01mif\u001b[39;00m s_abs \u001b[38;5;129;01min\u001b[39;00m hipify_result \u001b[38;5;28;01melse\u001b[39;00m s_abs)\n\u001b[32m   1719\u001b[39m             sources = \u001b[38;5;28mlist\u001b[39m(hipified_sources)\n\u001b[32m-> \u001b[39m\u001b[32m1721\u001b[39m         \u001b[43m_write_ninja_file_and_build_library\u001b[49m\u001b[43m(\u001b[49m\n\u001b[32m   1722\u001b[39m \u001b[43m            \u001b[49m\u001b[43mname\u001b[49m\u001b[43m=\u001b[49m\u001b[43mname\u001b[49m\u001b[43m,\u001b[49m\n\u001b[32m   1723\u001b[39m \u001b[43m            \u001b[49m\u001b[43msources\u001b[49m\u001b[43m=\u001b[49m\u001b[43msources\u001b[49m\u001b[43m,\u001b[49m\n\u001b[32m   1724\u001b[39m \u001b[43m            \u001b[49m\u001b[43mextra_cflags\u001b[49m\u001b[43m=\u001b[49m\u001b[43mextra_cflags\u001b[49m\u001b[43m \u001b[49m\u001b[38;5;129;43;01mor\u001b[39;49;00m\u001b[43m \u001b[49m\u001b[43m[\u001b[49m\u001b[43m]\u001b[49m\u001b[43m,\u001b[49m\n\u001b[32m   1725\u001b[39m \u001b[43m            \u001b[49m\u001b[43mextra_cuda_cflags\u001b[49m\u001b[43m=\u001b[49m\u001b[43mextra_cuda_cflags\u001b[49m\u001b[43m \u001b[49m\u001b[38;5;129;43;01mor\u001b[39;49;00m\u001b[43m \u001b[49m\u001b[43m[\u001b[49m\u001b[43m]\u001b[49m\u001b[43m,\u001b[49m\n\u001b[32m   1726\u001b[39m \u001b[43m            \u001b[49m\u001b[43mextra_ldflags\u001b[49m\u001b[43m=\u001b[49m\u001b[43mextra_ldflags\u001b[49m\u001b[43m \u001b[49m\u001b[38;5;129;43;01mor\u001b[39;49;00m\u001b[43m \u001b[49m\u001b[43m[\u001b[49m\u001b[43m]\u001b[49m\u001b[43m,\u001b[49m\n\u001b[32m   1727\u001b[39m \u001b[43m            \u001b[49m\u001b[43mextra_include_paths\u001b[49m\u001b[43m=\u001b[49m\u001b[43mextra_include_paths\u001b[49m\u001b[43m \u001b[49m\u001b[38;5;129;43;01mor\u001b[39;49;00m\u001b[43m \u001b[49m\u001b[43m[\u001b[49m\u001b[43m]\u001b[49m\u001b[43m,\u001b[49m\n\u001b[32m   1728\u001b[39m \u001b[43m            \u001b[49m\u001b[43mbuild_directory\u001b[49m\u001b[43m=\u001b[49m\u001b[43mbuild_directory\u001b[49m\u001b[43m,\u001b[49m\n\u001b[32m   1729\u001b[39m \u001b[43m            \u001b[49m\u001b[43mverbose\u001b[49m\u001b[43m=\u001b[49m\u001b[43mverbose\u001b[49m\u001b[43m,\u001b[49m\n\u001b[32m   1730\u001b[39m \u001b[43m            \u001b[49m\u001b[43mwith_cuda\u001b[49m\u001b[43m=\u001b[49m\u001b[43mwith_cuda\u001b[49m\u001b[43m,\u001b[49m\n\u001b[32m   1731\u001b[39m \u001b[43m            \u001b[49m\u001b[43mis_standalone\u001b[49m\u001b[43m=\u001b[49m\u001b[43mis_standalone\u001b[49m\u001b[43m)\u001b[49m\n\u001b[32m   1732\u001b[39m \u001b[38;5;28;01melif\u001b[39;00m verbose:\n\u001b[32m   1733\u001b[39m     \u001b[38;5;28mprint\u001b[39m(\u001b[33m'\u001b[39m\u001b[33mNo modifications detected for re-loaded extension \u001b[39m\u001b[33m'\u001b[39m\n\u001b[32m   1734\u001b[39m           \u001b[33mf\u001b[39m\u001b[33m'\u001b[39m\u001b[33mmodule \u001b[39m\u001b[38;5;132;01m{\u001b[39;00mname\u001b[38;5;132;01m}\u001b[39;00m\u001b[33m, skipping build step...\u001b[39m\u001b[33m'\u001b[39m, file=sys.stderr)\n",
      "\u001b[36mFile \u001b[39m\u001b[32mc:\\Users\\hci\\.conda\\envs\\3dgrut\\Lib\\site-packages\\torch\\utils\\cpp_extension.py:1833\u001b[39m, in \u001b[36m_write_ninja_file_and_build_library\u001b[39m\u001b[34m(name, sources, extra_cflags, extra_cuda_cflags, extra_ldflags, extra_include_paths, build_directory, verbose, with_cuda, is_standalone)\u001b[39m\n\u001b[32m   1831\u001b[39m \u001b[38;5;28;01mif\u001b[39;00m verbose:\n\u001b[32m   1832\u001b[39m     \u001b[38;5;28mprint\u001b[39m(\u001b[33mf\u001b[39m\u001b[33m'\u001b[39m\u001b[33mBuilding extension module \u001b[39m\u001b[38;5;132;01m{\u001b[39;00mname\u001b[38;5;132;01m}\u001b[39;00m\u001b[33m...\u001b[39m\u001b[33m'\u001b[39m, file=sys.stderr)\n\u001b[32m-> \u001b[39m\u001b[32m1833\u001b[39m \u001b[43m_run_ninja_build\u001b[49m\u001b[43m(\u001b[49m\n\u001b[32m   1834\u001b[39m \u001b[43m    \u001b[49m\u001b[43mbuild_directory\u001b[49m\u001b[43m,\u001b[49m\n\u001b[32m   1835\u001b[39m \u001b[43m    \u001b[49m\u001b[43mverbose\u001b[49m\u001b[43m,\u001b[49m\n\u001b[32m   1836\u001b[39m \u001b[43m    \u001b[49m\u001b[43merror_prefix\u001b[49m\u001b[43m=\u001b[49m\u001b[33;43mf\u001b[39;49m\u001b[33;43m\"\u001b[39;49m\u001b[33;43mError building extension \u001b[39;49m\u001b[33;43m'\u001b[39;49m\u001b[38;5;132;43;01m{\u001b[39;49;00m\u001b[43mname\u001b[49m\u001b[38;5;132;43;01m}\u001b[39;49;00m\u001b[33;43m'\u001b[39;49m\u001b[33;43m\"\u001b[39;49m\u001b[43m)\u001b[49m\n",
      "\u001b[36mFile \u001b[39m\u001b[32mc:\\Users\\hci\\.conda\\envs\\3dgrut\\Lib\\site-packages\\torch\\utils\\cpp_extension.py:2120\u001b[39m, in \u001b[36m_run_ninja_build\u001b[39m\u001b[34m(build_directory, verbose, error_prefix)\u001b[39m\n\u001b[32m   2118\u001b[39m \u001b[38;5;28;01mif\u001b[39;00m \u001b[38;5;28mhasattr\u001b[39m(error, \u001b[33m'\u001b[39m\u001b[33moutput\u001b[39m\u001b[33m'\u001b[39m) \u001b[38;5;129;01mand\u001b[39;00m error.output:  \u001b[38;5;66;03m# type: ignore[union-attr]\u001b[39;00m\n\u001b[32m   2119\u001b[39m     message += \u001b[33mf\u001b[39m\u001b[33m\"\u001b[39m\u001b[33m: \u001b[39m\u001b[38;5;132;01m{\u001b[39;00merror.output.decode(*SUBPROCESS_DECODE_ARGS)\u001b[38;5;132;01m}\u001b[39;00m\u001b[33m\"\u001b[39m  \u001b[38;5;66;03m# type: ignore[union-attr]\u001b[39;00m\n\u001b[32m-> \u001b[39m\u001b[32m2120\u001b[39m \u001b[38;5;28;01mraise\u001b[39;00m \u001b[38;5;167;01mRuntimeError\u001b[39;00m(message) \u001b[38;5;28;01mfrom\u001b[39;00m\u001b[38;5;250m \u001b[39m\u001b[34;01me\u001b[39;00m\n",
      "\u001b[31mRuntimeError\u001b[39m: Error building extension 'lib3dgrt_cc'"
     ]
    }
   ],
   "source": [
    "engine = Engine3DGRUT(\n",
    "    gs_object=gs_object,\n",
    "    mesh_assets_folder=mesh_assets_folder,\n",
    "    default_config=default_config\n",
    ")"
   ]
  },
  {
   "cell_type": "markdown",
   "id": "d8057aa9-c118-4487-928a-e759e40e1979",
   "metadata": {},
   "source": [
    "#### Configure 3DGRUT Engine"
   ]
  },
  {
   "cell_type": "code",
   "execution_count": null,
   "id": "3ff54b67-615c-49aa-9448-7d823ca801bf",
   "metadata": {},
   "outputs": [],
   "source": [
    "# Configure rendering settings\n",
    "engine.camera_type = 'Pinhole'\n",
    "engine.camera_fov = 60.0\n",
    "engine.use_spp = True\n",
    "engine.antialiasing_mode = '8x MSAA'\n",
    "\n",
    "# Remove initial glass sphere from scene\n",
    "for mesh_name in list(engine.primitives.objects.keys()):\n",
    "    engine.primitives.remove_primitive(mesh_name)\n",
    "\n",
    "# Add a glass 'Armadillo' to the scene\n",
    "# Get the asset with download_assets.sh script\n",
    "engine.primitives.add_primitive(\n",
    "    geometry_type='Armadillo',\n",
    "    primitive_type=OptixPrimitiveTypes.GLASS,\n",
    "    device='cuda'\n",
    ")"
   ]
  },
  {
   "cell_type": "markdown",
   "id": "f6eab7bb-ed87-4319-8356-dae3f53a0a66",
   "metadata": {},
   "source": [
    "## Render Single Image"
   ]
  },
  {
   "cell_type": "markdown",
   "id": "ea5c90be-9317-451c-9275-afcfe8dfda3f",
   "metadata": {},
   "source": [
    "The following block shows how to generate a single screenshot using the engine."
   ]
  },
  {
   "cell_type": "code",
   "execution_count": null,
   "id": "cbc0c303-cd6a-41d9-9427-97395484212c",
   "metadata": {},
   "outputs": [],
   "source": [
    "# You can also create a camera from (eye, at, up) or 4x4 view-matrix\n",
    "# See here: https://github.com/NVIDIAGameWorks/kaolin/blob/master/examples/recipes/camera/camera_init_simple.py\n",
    "\n",
    "# Create a camera programatically and position it\n",
    "camera = kaolin.render.easy_render.default_camera(512).cuda()\n",
    "camera.move_forward(-1.5)\n",
    "camera.move_up(1.5)\n",
    "camera.rotate(yaw=1.0, pitch=0.5, roll=2.5)"
   ]
  },
  {
   "cell_type": "code",
   "execution_count": null,
   "id": "6f3f71bf-f2b5-494b-a6e7-61b406059c03",
   "metadata": {},
   "outputs": [],
   "source": [
    "# Render a full quality frame\n",
    "framebuffer = engine.render(camera)\n",
    "rgba_buffer = torch.cat([framebuffer['rgb'], framebuffer['opacity']], dim=-1)\n",
    "\n",
    "# Display\n",
    "chw_buffer = rgba_buffer[0].permute(2, 0, 1)\n",
    "img = F.to_pil_image(chw_buffer)\n",
    "plt.imshow(img)\n",
    "plt.axis('off')\n",
    "plt.show()"
   ]
  },
  {
   "cell_type": "markdown",
   "id": "43fd7f65-da85-4c2c-bd74-3267b7f6a845",
   "metadata": {},
   "source": [
    "## Interactive Renderer"
   ]
  },
  {
   "cell_type": "markdown",
   "id": "c787a08a-8d90-4df5-ae8e-490d99184cc6",
   "metadata": {},
   "source": [
    "The following block shows how to use kaolin's internal viewer to drive the 3DGRUT engine with user interaction."
   ]
  },
  {
   "cell_type": "markdown",
   "id": "53aa5e9a-cadb-489f-addc-3e735cb9a704",
   "metadata": {},
   "source": [
    "#### Set up widgets"
   ]
  },
  {
   "cell_type": "markdown",
   "id": "e50c550b-3726-4ab9-a628-24f7f50dcfd1",
   "metadata": {},
   "source": [
    "Set up some checkboxes, dropdowns and slider to control simple engine functionality."
   ]
  },
  {
   "cell_type": "code",
   "execution_count": null,
   "id": "5e3d0193-8dd0-4255-a294-a72025720473",
   "metadata": {},
   "outputs": [],
   "source": [
    "import ipywidgets as widgets\n",
    "from IPython.display import display\n",
    "\n",
    "aa_checkbox = widgets.Checkbox(\n",
    "    value=engine.use_spp,\n",
    "    description='Toggle Antialiasing'\n",
    ")\n",
    "\n",
    "aa_mode_combo = widgets.Dropdown(\n",
    "    options=engine.ANTIALIASING_MODES,\n",
    "    value='4x MSAA',\n",
    "    description='AA Mode'\n",
    ")\n",
    "\n",
    "denoiser_checkbox = widgets.Checkbox(\n",
    "    value=engine.use_optix_denoiser,\n",
    "    description='Toggle Optix Denoiser'\n",
    ")\n",
    "\n",
    "spp_slider = widgets.IntSlider(\n",
    "    value=engine.spp.spp,\n",
    "    min=1,\n",
    "    max=64,\n",
    "    step=1,\n",
    "    orientation='horizontal',\n",
    "    description='AA SPP',\n",
    "    disabled=(engine.spp.mode == 'msaa')\n",
    ")\n",
    "\n",
    "def on_change(change):\n",
    "    engine.use_spp = aa_checkbox.value\n",
    "    \n",
    "    engine.antialiasing_mode = aa_mode_combo.value\n",
    "    if engine.antialiasing_mode == '4x MSAA':\n",
    "        engine.spp.mode = 'msaa'\n",
    "        engine.spp.spp = 4\n",
    "    elif engine.antialiasing_mode == '8x MSAA':\n",
    "        engine.spp.mode = 'msaa'\n",
    "        engine.spp.spp = 8\n",
    "    elif engine.antialiasing_mode == '16x MSAA':\n",
    "        engine.spp.mode = 'msaa'\n",
    "        engine.spp.spp = 16\n",
    "    elif engine.antialiasing_mode == 'Quasi-Random (Sobol)':\n",
    "        engine.spp.mode = 'low_discrepancy_seq'\n",
    "        engine.spp.spp = spp_slider.value\n",
    "    else:\n",
    "        raise ValueError('unknown antialiasing mode')\n",
    "        \n",
    "    engine.spp.reset_accumulation()\n",
    "    engine.use_optix_denoiser = denoiser_checkbox.value\n",
    "\n",
    "    spp_slider.value = engine.spp.spp\n",
    "    spp_slider.disabled = (engine.spp.mode == 'msaa')\n",
    "    visualizer.render_update()\n",
    "\n",
    "aa_checkbox.observe(on_change, names='value')\n",
    "aa_mode_combo.observe(on_change, names='value')\n",
    "denoiser_checkbox.observe(on_change, names='value')\n",
    "spp_slider.observe(on_change, names='value')"
   ]
  },
  {
   "cell_type": "markdown",
   "id": "ec1ef1dc-d7af-49c5-8594-f2ab2d0c9617",
   "metadata": {},
   "source": [
    "#### Plug 3DGRUT Engine to Canvas"
   ]
  },
  {
   "cell_type": "code",
   "execution_count": null,
   "id": "765cecac3ac0b94a",
   "metadata": {},
   "outputs": [],
   "source": [
    "def render(in_cam, **kwargs):\n",
    "    # Called when the user stops interacting, to generate a high quality frame\n",
    "    is_first_pass = engine.is_dirty(in_cam)\n",
    "    framebuffer = engine.render_pass(in_cam, is_first_pass=True)\n",
    "    while engine.has_progressive_effects_to_render():\n",
    "        framebuffer = engine.render_pass(in_cam, is_first_pass=False)\n",
    "\n",
    "    rgba_buffer = torch.cat([framebuffer['rgb'], framebuffer['opacity']], dim=-1)\n",
    "    rgba_buffer = torch.clamp(rgba_buffer, 0.0, 1.0)\n",
    "\n",
    "    return (rgba_buffer[0] * 255).to(torch.uint8)\n",
    "\n",
    "def fast_render(in_cam, **kwargs):\n",
    "    # Called during interactions, disables effects for quick rendering\n",
    "    framebuffer = engine.render_pass(in_cam, is_first_pass=True)\n",
    "    rgba_buffer = torch.cat([framebuffer['rgb'], framebuffer['opacity']], dim=-1)\n",
    "    rgba_buffer = torch.clamp(rgba_buffer, 0.0, 1.0)\n",
    "    return (rgba_buffer[0] * 255).to(torch.uint8)\n",
    "\n",
    "# Create initial camera\n",
    "camera = kaolin.render.easy_render.default_camera(512)\n",
    "camera.change_coordinate_system(\n",
    "    torch.tensor([[1, 0, 0],\n",
    "                  [0, 0, 1],\n",
    "                  [0, -1, 0]]\n",
    "))\n",
    "camera = camera.cuda()\n",
    "# Initialize renderer\n",
    "visualizer = kaolin.visualize.IpyTurntableVisualizer(\n",
    "    height=camera.height,\n",
    "    width=camera.width,\n",
    "    camera=copy.deepcopy(camera),\n",
    "    render=render,\n",
    "    fast_render=fast_render,\n",
    "    max_fps=8,\n",
    "    world_up_axis=1\n",
    ")\n",
    "\n",
    "# Show the canvas and callback listener\n",
    "vbox = widgets.VBox([denoiser_checkbox, aa_checkbox, aa_mode_combo, spp_slider])\n",
    "hbox = widgets.HBox([visualizer.canvas, vbox])\n",
    "display(hbox, visualizer.out)\n",
    "\n",
    "# OR without a GUI, its as simple as:\n",
    "# visualizer.show()"
   ]
  },
  {
   "cell_type": "code",
   "execution_count": null,
   "id": "39141a6b",
   "metadata": {},
   "outputs": [],
   "source": []
  },
  {
   "cell_type": "code",
   "execution_count": null,
   "id": "0b017f50",
   "metadata": {},
   "outputs": [],
   "source": []
  }
 ],
 "metadata": {
  "kernelspec": {
   "display_name": "3dgrut",
   "language": "python",
   "name": "python3"
  },
  "language_info": {
   "codemirror_mode": {
    "name": "ipython",
    "version": 3
   },
   "file_extension": ".py",
   "mimetype": "text/x-python",
   "name": "python",
   "nbconvert_exporter": "python",
   "pygments_lexer": "ipython3",
   "version": "3.11.13"
  }
 },
 "nbformat": 4,
 "nbformat_minor": 5
}
